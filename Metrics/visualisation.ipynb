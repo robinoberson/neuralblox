{
 "cells": [
  {
   "cell_type": "code",
   "execution_count": 1,
   "metadata": {},
   "outputs": [
    {
     "name": "stdout",
     "output_type": "stream",
     "text": [
      "/home/robin/Dev/MasterThesis/GithubRepos/master_thesis\n",
      "Jupyter environment detected. Enabling Open3D WebVisualizer.\n",
      "[Open3D INFO] WebRTC GUI backend enabled.\n",
      "[Open3D INFO] WebRTCWindowSystem: HTTP handshake server disabled.\n",
      "cuda\n",
      "On home\n",
      "/media/robin/T7/report/models/model_backbone.pt\n",
      "=> Loading checkpoint from local file...\n",
      "/media/robin/T7/report/models/model_merging.pt\n",
      "=> Loading checkpoint from local file...\n"
     ]
    },
    {
     "name": "stderr",
     "output_type": "stream",
     "text": [
      "/home/robin/Dev/MasterThesis/GithubRepos/master_thesis/neuralblox/src/checkpoints.py:65: FutureWarning: You are using `torch.load` with `weights_only=False` (the current default value), which uses the default pickle module implicitly. It is possible to construct malicious pickle data which will execute arbitrary code during unpickling (See https://github.com/pytorch/pytorch/blob/main/SECURITY.md#untrusted-models for more details). In a future release, the default value for `weights_only` will be flipped to `True`. This limits the functions that could be executed during unpickling. Arbitrary objects will no longer be allowed to be loaded via this mode unless they are explicitly allowlisted by the user via `torch.serialization.add_safe_globals`. We recommend you start setting `weights_only=True` for any use case where you don't have full control of the loaded file. Please open an issue on GitHub for any issues related to this experimental feature.\n",
      "  state_dict = torch.load(filename)\n"
     ]
    },
    {
     "name": "stdout",
     "output_type": "stream",
     "text": [
      "Location: home\n"
     ]
    }
   ],
   "source": [
    "import os\n",
    "import sys\n",
    "from scipy.spatial.transform import Rotation as R\n",
    "\n",
    "%reload_ext autoreload\n",
    "%autoreload 2\n",
    "\n",
    "current_directory = os.getcwd()\n",
    "master_thesis_path = os.path.join(os.path.sep, *current_directory.split(os.path.sep)[:-2])\n",
    "\n",
    "# Print the master thesis path\n",
    "print(master_thesis_path)\n",
    "\n",
    "sys.path.append(os.path.join(master_thesis_path, 'neuralblox'))\n",
    "sys.path.append(os.path.join(master_thesis_path, 'neuralblox', 'configs'))\n",
    "\n",
    "#cd to neuralblox folder\n",
    "os.chdir(os.path.join(master_thesis_path, 'neuralblox'))\n",
    "\n",
    "import torch\n",
    "import numpy as np\n",
    "\n",
    "import open3d as o3d\n",
    "from src.utils.debug_utils import *\n",
    "is_cuda = (torch.cuda.is_available())\n",
    "device = torch.device(\"cuda\" if is_cuda else \"cpu\")\n",
    "print(device)\n",
    "import src.neuralblox.helpers.visualization_utils as vis_utils\n",
    "import src.neuralblox.helpers.sequential_trainer_utils as st_utils\n",
    "import src.neuralblox.helpers.metrics_utils as metrics_utils\n",
    "from src.neuralblox import config_generators\n",
    "\n",
    "if 'robin' in os.getcwd():\n",
    "    bool_location = 1\n",
    "    cfg_path = 'configs/evaluation_cfg.yaml'\n",
    "    print(f'On home')\n",
    "elif 'cluster' in os.getcwd():\n",
    "    bool_location = 2\n",
    "    print(f'On euler')\n",
    "else:\n",
    "    bool_location = 0\n",
    "    cfg_path = 'configs/evaluation_cfg_local.yaml'\n",
    "    print(f'On local')\n",
    "\n",
    "cfg_default_path = 'configs/default.yaml'\n",
    "\n",
    "cfg = config.load_config(cfg_path, cfg_default_path)\n",
    "\n",
    "generator_robot = config_generators.get_generator_sequential(cfg, device=device)\n"
   ]
  },
  {
   "cell_type": "code",
   "execution_count": 2,
   "metadata": {},
   "outputs": [
    {
     "name": "stderr",
     "output_type": "stream",
     "text": [
      "/tmp/ipykernel_66558/4294805686.py:12: FutureWarning: You are using `torch.load` with `weights_only=False` (the current default value), which uses the default pickle module implicitly. It is possible to construct malicious pickle data which will execute arbitrary code during unpickling (See https://github.com/pytorch/pytorch/blob/main/SECURITY.md#untrusted-models for more details). In a future release, the default value for `weights_only` will be flipped to `True`. This limits the functions that could be executed during unpickling. Arbitrary objects will no longer be allowed to be loaded via this mode unless they are explicitly allowlisted by the user via `torch.serialization.add_safe_globals`. We recommend you start setting `weights_only=True` for any use case where you don't have full control of the loaded file. Please open an issue on GitHub for any issues related to this experimental feature.\n",
      "  data = torch.load(path_data)\n"
     ]
    },
    {
     "data": {
      "text/plain": [
       "TriangleMesh with 1465813 points and 2931298 triangles."
      ]
     },
     "execution_count": 2,
     "metadata": {},
     "output_type": "execute_result"
    }
   ],
   "source": [
    "path_dir = cfg['plotoptix']['path_dir']\n",
    "og = cfg['plotoptix']['og']\n",
    "dispatch = cfg['plotoptix']['dispatch']\n",
    "n_points = cfg['plotoptix']['n_points']\n",
    "terrains_path = cfg['data']['scene_folder']\n",
    "out_dir_images = cfg['plotoptix']['out_dir_images']\n",
    "image_name = cfg['plotoptix']['image_name']\n",
    "\n",
    "path_data = os.path.join(path_dir, f'data_saving_{n_points}_1_og{og}_dispatch-{dispatch}_.pth')\n",
    "path_mesh = os.path.join(path_dir, f'mesh_data_saving_{n_points}_1_og{og}_dispatch-{dispatch}_.pth.obj')\n",
    "\n",
    "data = torch.load(path_data)\n",
    "\n",
    "terrain = data['model_infos'][0]['category'][0]\n",
    "transform = data['transform']\n",
    "\n",
    "angles = transform[0]\n",
    "rotation = R.from_euler('xyz', angles[0], degrees=True).inv()\n",
    "translation = transform[1]\n",
    "\n",
    "query_points = data['query_points']\n",
    "logits_sampled = data['logits_sampled']\n",
    "occ_sampled = 1 / (1 + np.exp(-logits_sampled))\n",
    "occ_sampled = occ_sampled > cfg['plotoptix']['threshold']\n",
    "query_points_occupied = rotation.apply(query_points[occ_sampled == 1] - translation.numpy())\n",
    "\n",
    "inputs = data['inputs']\n",
    "inputs_occ = data['inputs.occ']\n",
    "inputs_occupied = rotation.apply(inputs[inputs_occ == 1] - translation)\n",
    "\n",
    "gt_mesh_o3d, gt_mesh_points = metrics_utils.load_ground_truth(cfg, terrain)\n",
    "gt_mesh_o3d, gt_mesh_points = metrics_utils.apply_transformations(transform, gt_mesh_o3d, gt_mesh_points)\n",
    "gt_mesh_o3d.translate(-np.array(translation[0])).rotate(rotation.as_matrix(), center=(0, 0, 0))\n",
    "\n",
    "center_data = np.mean(gt_mesh_o3d.vertices, axis=0)\n",
    "\n",
    "save_dir = os.path.join(out_dir_images, image_name)\n",
    "if not os.path.exists(save_dir):\n",
    "    os.makedirs(save_dir)\n",
    "    \n",
    "mesh_path = os.path.join(path_dir, f'mesh_data_saving_{n_points}_1_og{og}_dispatch-{dispatch}_.pth.obj')\n",
    "mesh_og = o3d.io.read_triangle_mesh(mesh_path)\n",
    "mesh_og.translate(-np.array([0.5,0.05,0.5])).translate(-np.array(translation[0])).rotate(rotation.as_matrix(), center=(0, 0, 0))\n",
    "# mesh_og.rotate(rotation.as_matrix(), center=(0, 0, 0)).translate(-np.array([0.5,0,0]))"
   ]
  },
  {
   "cell_type": "code",
   "execution_count": 3,
   "metadata": {},
   "outputs": [],
   "source": [
    "terrain = data['model_infos'][0]['category'][0]\n",
    "transform = data['transform']\n",
    "\n",
    "angles = transform[0]\n",
    "rotation = R.from_euler('xyz', angles[0], degrees=True).inv()\n",
    "translation = transform[1]\n",
    "\n",
    "query_points = data['query_points']\n",
    "logits_sampled = data['logits_sampled']\n",
    "\n",
    "occ_sampled = 1 / (1 + np.exp(-logits_sampled))\n",
    "occ_sampled = occ_sampled > 0.1\n",
    "\n",
    "query_points_occupied = rotation.apply(query_points[occ_sampled == 1] - translation.numpy())\n",
    "\n",
    "pcd = o3d.geometry.PointCloud()\n",
    "pcd.points = o3d.utility.Vector3dVector(query_points_occupied)\n",
    "pcd.paint_uniform_color(np.random.rand(3))\n",
    "\n",
    "inputs = data['inputs']\n",
    "inputs_occ = data['inputs.occ']\n",
    "inputs_occupied = rotation.apply(inputs[inputs_occ == 1] - translation)\n",
    "\n",
    "pcd_inputs = o3d.geometry.PointCloud()\n",
    "pcd_inputs.points = o3d.utility.Vector3dVector(inputs_occupied)\n",
    "pcd_inputs.paint_uniform_color(np.random.rand(3))\n",
    "\n",
    "gt_mesh_o3d, gt_mesh_points = metrics_utils.load_ground_truth(cfg, terrain)\n",
    "gt_mesh_o3d, gt_mesh_points = metrics_utils.apply_transformations(transform, gt_mesh_o3d, gt_mesh_points)\n",
    "gt_mesh_o3d.compute_vertex_normals()\n",
    "\n",
    "gt_mesh_o3d.translate(-np.array(translation[0])).rotate(rotation.as_matrix(), center=(0, 0, 0))\n",
    "\n",
    "center_data = np.mean(gt_mesh_o3d.vertices, axis=0)\n",
    "\n",
    "camera_pos = center_data + np.array([0, 8, -20])\n",
    "camera_target = center_data \n",
    "light1_pos = center_data + np.array([-8, 15, 0])\n",
    "light2_pos = center_data + np.array([8, 15, 0])\n",
    "light3_pos = center_data + np.array([0, 15, 0])\n",
    "    \n",
    "    \n",
    "camera = o3d.geometry.TriangleMesh.create_cone()\n",
    "target = o3d.geometry.TriangleMesh.create_cylinder()\n",
    "\n",
    "target.translate(center_data)\n",
    "\n",
    "light1 = o3d.geometry.TriangleMesh.create_sphere(radius=0.2)\n",
    "light2 = o3d.geometry.TriangleMesh.create_sphere(radius=0.2)\n",
    "light3 = o3d.geometry.TriangleMesh.create_sphere(radius=0.2)\n",
    "light1.translate(light1_pos)\n",
    "light2.translate(light2_pos)\n",
    "light3.translate(light3_pos)\n",
    "\n",
    "camera.translate(camera_pos)\n",
    "\n",
    "base_axis = o3d.geometry.TriangleMesh.create_coordinate_frame()\n",
    "o3d.visualization.draw_geometries([gt_mesh_o3d, pcd, pcd_inputs, camera, target, light1, light2, light3, base_axis])"
   ]
  },
  {
   "cell_type": "code",
   "execution_count": 7,
   "metadata": {},
   "outputs": [],
   "source": [
    "mesh_path = os.path.join(path_dir, f'mesh_data_saving_{n_points}_1_og{og}_dispatch-{dispatch}_.pth.obj')\n",
    "mesh_og = o3d.io.read_triangle_mesh(mesh_path)\n",
    "mesh_og.compute_vertex_normals()\n",
    "o3d.visualization.draw_geometries([mesh_og, pcd])"
   ]
  },
  {
   "cell_type": "code",
   "execution_count": 5,
   "metadata": {},
   "outputs": [
    {
     "name": "stdout",
     "output_type": "stream",
     "text": [
      "Generating meshes\n",
      "torch.Size([1, 20, 8192, 3])\n",
      "torch.Size([1, 20, 8192])\n"
     ]
    },
    {
     "name": "stderr",
     "output_type": "stream",
     "text": [
      "/home/robin/anaconda3/envs/neuralblox_3_8_v2/lib/python3.8/site-packages/torch/functional.py:513: UserWarning: torch.meshgrid: in an upcoming release, it will be required to pass the indexing argument. (Triggered internally at ../aten/src/ATen/native/TensorShape.cpp:3609.)\n",
      "  return _VF.meshgrid(tensors, **kwargs)  # type: ignore[attr-defined]\n"
     ]
    },
    {
     "name": "stdout",
     "output_type": "stream",
     "text": [
      "Generating mesh at index 19\n",
      "Decoding latent codes from 125 voxels\n"
     ]
    }
   ],
   "source": [
    "print(f'Generating meshes')\n",
    "\n",
    "print(data['inputs'].shape)\n",
    "print(data['inputs.occ'].shape)\n",
    "batch_subsampled_reduced = {\n",
    "    'inputs': data['inputs'].to(torch.float32) + torch.tensor([0.5, +0.09, 0.5]).to(torch.float32),\n",
    "    'inputs.occ': data['inputs.occ'],\n",
    "    'points': data['inputs'].to(torch.float32),\n",
    "    'points.occ': data['inputs.occ']\n",
    "}\n",
    "idx_vis = 19\n",
    "\n",
    "with torch.no_grad():\n",
    "    mesh_list, inputs_frame_list, times, logits = generator_robot.generate_mesh_at_index(batch_subsampled_reduced, idx_vis, 0, memory_keep=False, generate_logits=True)   \n"
   ]
  },
  {
   "cell_type": "code",
   "execution_count": 6,
   "metadata": {},
   "outputs": [
    {
     "name": "stdout",
     "output_type": "stream",
     "text": [
      "\u001b[1;33m[Open3D WARNING] Write OBJ can not include triangle normals.\u001b[0;m\n"
     ]
    },
    {
     "data": {
      "text/plain": [
       "True"
      ]
     },
     "execution_count": 6,
     "metadata": {},
     "output_type": "execute_result"
    }
   ],
   "source": [
    "mesh_o3d = vis_utils.visualize_mesh_and_points(inputs_frame_list, mesh_list)\n",
    "\n",
    "mesh_path = os.path.join(path_dir, f'mesh_data_saving_{n_points}_1_og{og}_dispatch-{dispatch}_.pth.obj')\n",
    "#save the mesh \n",
    "o3d.io.write_triangle_mesh(mesh_path, mesh_o3d)"
   ]
  },
  {
   "cell_type": "code",
   "execution_count": 3,
   "metadata": {},
   "outputs": [
    {
     "name": "stdout",
     "output_type": "stream",
     "text": [
      "torch.Size([10000000, 3])\n",
      "torch.Size([200, 50000, 3])\n",
      "torch.Size([200, 50000, 1])\n"
     ]
    }
   ],
   "source": [
    "dir_path = '/media/robin/T7/data/pclds/'\n",
    "\n",
    "sequence_path = os.path.join(dir_path, 'sequence.npy')\n",
    "sequence_points_path = os.path.join(dir_path, 'sequence_points.npy')\n",
    "sequence_occupancies_path = os.path.join(dir_path, 'sequence_occupancies.npy')\n",
    "\n",
    "sequence = torch.tensor(np.load(sequence_path))\n",
    "sequence_points = torch.tensor(np.load(sequence_points_path))\n",
    "sequence_occupancies = torch.tensor(np.load(sequence_occupancies_path))\n",
    "\n",
    "print(sequence.shape)\n",
    "print(sequence_points.shape)\n",
    "print(sequence_occupancies.shape)\n"
   ]
  },
  {
   "cell_type": "code",
   "execution_count": 4,
   "metadata": {},
   "outputs": [
    {
     "name": "stdout",
     "output_type": "stream",
     "text": [
      "/media/robin/T7/report/models/model_backbone.pt\n",
      "=> Loading checkpoint from local file...\n",
      "/media/robin/T7/report/models/model_merging.pt\n",
      "=> Loading checkpoint from local file...\n"
     ]
    },
    {
     "name": "stderr",
     "output_type": "stream",
     "text": [
      "/home/robin/Dev/MasterThesis/GithubRepos/master_thesis/neuralblox/src/checkpoints.py:65: FutureWarning: You are using `torch.load` with `weights_only=False` (the current default value), which uses the default pickle module implicitly. It is possible to construct malicious pickle data which will execute arbitrary code during unpickling (See https://github.com/pytorch/pytorch/blob/main/SECURITY.md#untrusted-models for more details). In a future release, the default value for `weights_only` will be flipped to `True`. This limits the functions that could be executed during unpickling. Arbitrary objects will no longer be allowed to be loaded via this mode unless they are explicitly allowlisted by the user via `torch.serialization.add_safe_globals`. We recommend you start setting `weights_only=True` for any use case where you don't have full control of the loaded file. Please open an issue on GitHub for any issues related to this experimental feature.\n",
      "  state_dict = torch.load(filename)\n"
     ]
    },
    {
     "name": "stdout",
     "output_type": "stream",
     "text": [
      "Location: home\n",
      "torch.Size([1, 20, 8192, 3])\n",
      "torch.Size([1, 20, 8192])\n",
      "torch.Size([1, 20, 50000, 3])\n",
      "torch.Size([1, 20, 50000])\n"
     ]
    },
    {
     "name": "stderr",
     "output_type": "stream",
     "text": [
      "/home/robin/anaconda3/envs/neuralblox_3_8_v2/lib/python3.8/site-packages/torch/functional.py:513: UserWarning: torch.meshgrid: in an upcoming release, it will be required to pass the indexing argument. (Triggered internally at ../aten/src/ATen/native/TensorShape.cpp:3609.)\n",
      "  return _VF.meshgrid(tensors, **kwargs)  # type: ignore[attr-defined]\n"
     ]
    },
    {
     "name": "stdout",
     "output_type": "stream",
     "text": [
      "Generating mesh at index 19\n",
      "Decoding latent codes from 101 voxels\n"
     ]
    }
   ],
   "source": [
    "generator_robot = config_generators.get_generator_sequential(cfg, device=device)\n",
    "print(data['inputs'].shape)\n",
    "print(data['inputs.occ'].shape)\n",
    "batch_subsampled_reduced = {\n",
    "    'inputs': sequence_points[::10, :, :].unsqueeze(0).to(torch.float32) ,\n",
    "    'inputs.occ':sequence_occupancies[::10, :].unsqueeze(0).squeeze(-1).bool(),\n",
    "    'points': sequence_points[::10, :, :].unsqueeze(0).to(torch.float32),\n",
    "    'points.occ': sequence_occupancies[::10, :].unsqueeze(0).squeeze(-1).bool()\n",
    "}\n",
    "idx_vis = 19\n",
    "\n",
    "print(batch_subsampled_reduced['inputs'].shape)\n",
    "print(batch_subsampled_reduced['inputs.occ'].shape)\n",
    "\n",
    "with torch.no_grad():\n",
    "    mesh_list, inputs_frame_list, times, logits = generator_robot.generate_mesh_at_index(batch_subsampled_reduced, idx_vis, 0, memory_keep=False, generate_logits=True)   \n"
   ]
  },
  {
   "cell_type": "code",
   "execution_count": 7,
   "metadata": {},
   "outputs": [
    {
     "name": "stdout",
     "output_type": "stream",
     "text": [
      "\u001b[1;33m[Open3D WARNING] Write OBJ can not include triangle normals.\u001b[0;m\n"
     ]
    },
    {
     "data": {
      "text/plain": [
       "True"
      ]
     },
     "execution_count": 7,
     "metadata": {},
     "output_type": "execute_result"
    }
   ],
   "source": [
    "mesh_o3d = vis_utils.visualize_mesh_and_points(inputs_frame_list, mesh_list)\n",
    "mesh_path = os.path.join(path_dir, f'mesh_real_worl_robot.obj')\n",
    "o3d.io.write_triangle_mesh(mesh_path, mesh_o3d)"
   ]
  },
  {
   "cell_type": "code",
   "execution_count": 6,
   "metadata": {},
   "outputs": [],
   "source": [
    "o3d.visualization.draw_geometries([mesh_o3d])"
   ]
  }
 ],
 "metadata": {
  "kernelspec": {
   "display_name": "neuralblox_3_8_v2",
   "language": "python",
   "name": "python3"
  },
  "language_info": {
   "codemirror_mode": {
    "name": "ipython",
    "version": 3
   },
   "file_extension": ".py",
   "mimetype": "text/x-python",
   "name": "python",
   "nbconvert_exporter": "python",
   "pygments_lexer": "ipython3",
   "version": "3.8.18"
  }
 },
 "nbformat": 4,
 "nbformat_minor": 2
}
