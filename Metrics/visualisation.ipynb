{
 "cells": [
  {
   "cell_type": "code",
   "execution_count": 21,
   "metadata": {},
   "outputs": [
    {
     "name": "stdout",
     "output_type": "stream",
     "text": [
      "/home/robin/Dev/MasterThesis/GithubRepos/master_thesis\n",
      "cuda\n",
      "On home\n"
     ]
    }
   ],
   "source": [
    "import os\n",
    "import sys\n",
    "from scipy.spatial.transform import Rotation as R\n",
    "\n",
    "%reload_ext autoreload\n",
    "%autoreload 2\n",
    "\n",
    "current_directory = os.getcwd()\n",
    "master_thesis_path = os.path.join(os.path.sep, *current_directory.split(os.path.sep)[:-2])\n",
    "\n",
    "# Print the master thesis path\n",
    "print(master_thesis_path)\n",
    "\n",
    "sys.path.append(os.path.join(master_thesis_path, 'neuralblox'))\n",
    "sys.path.append(os.path.join(master_thesis_path, 'neuralblox', 'configs'))\n",
    "\n",
    "#cd to neuralblox folder\n",
    "os.chdir(os.path.join(master_thesis_path, 'neuralblox'))\n",
    "\n",
    "import torch\n",
    "import numpy as np\n",
    "\n",
    "import open3d as o3d\n",
    "from src.utils.debug_utils import *\n",
    "is_cuda = (torch.cuda.is_available())\n",
    "device = torch.device(\"cuda\" if is_cuda else \"cpu\")\n",
    "print(device)\n",
    "import src.neuralblox.helpers.visualization_utils as vis_utils\n",
    "import src.neuralblox.helpers.sequential_trainer_utils as st_utils\n",
    "import src.neuralblox.helpers.metrics_utils as metrics_utils\n",
    "\n",
    "if 'robin' in os.getcwd():\n",
    "    bool_location = 1\n",
    "    cfg_path = 'configs/evaluation_cfg.yaml'\n",
    "    print(f'On home')\n",
    "elif 'cluster' in os.getcwd():\n",
    "    bool_location = 2\n",
    "    print(f'On euler')\n",
    "else:\n",
    "    bool_location = 0\n",
    "    cfg_path = 'configs/evaluation_cfg_local.yaml'\n",
    "    print(f'On local')\n",
    "\n",
    "cfg_default_path = 'configs/default.yaml'\n",
    "\n",
    "cfg = config.load_config(cfg_path, cfg_default_path)\n"
   ]
  },
  {
   "cell_type": "code",
   "execution_count": 33,
   "metadata": {},
   "outputs": [
    {
     "name": "stdout",
     "output_type": "stream",
     "text": [
      "dict_keys(['inputs', 'inputs.occ', 'query_points', 'logits_sampled', 'model_infos', 'transform', 'cfg'])\n"
     ]
    },
    {
     "name": "stderr",
     "output_type": "stream",
     "text": [
      "/tmp/ipykernel_640804/4071480250.py:14: FutureWarning: You are using `torch.load` with `weights_only=False` (the current default value), which uses the default pickle module implicitly. It is possible to construct malicious pickle data which will execute arbitrary code during unpickling (See https://github.com/pytorch/pytorch/blob/main/SECURITY.md#untrusted-models for more details). In a future release, the default value for `weights_only` will be flipped to `True`. This limits the functions that could be executed during unpickling. Arbitrary objects will no longer be allowed to be loaded via this mode unless they are explicitly allowlisted by the user via `torch.serialization.add_safe_globals`. We recommend you start setting `weights_only=True` for any use case where you don't have full control of the loaded file. Please open an issue on GitHub for any issues related to this experimental feature.\n",
      "  data = torch.load(path)\n"
     ]
    }
   ],
   "source": [
    "import numpy as np \n",
    "import torch \n",
    "import open3d as o3d\n",
    "import trimesh\n",
    "import copy\n",
    "import os \n",
    "\n",
    "path_dir = '/media/robin/T7/neuralblox/evaluation/processed_data'\n",
    "og = False\n",
    "dispatch = True\n",
    "n_points = 8192\n",
    "\n",
    "path = os.path.join(path_dir, f'data_saving_{n_points}_1_og{og}_dispatch-{dispatch}_.pth')\n",
    "data = torch.load(path)\n",
    "import yaml\n",
    "\n",
    "def load_config(path):\n",
    "    with open(path, 'r') as stream:\n",
    "        return yaml.safe_load(stream)\n",
    "cfg = '/home/robin/Dev/MasterThesis/GithubRepos/master_thesis/neuralblox/configs/evaluation_cfg.yaml'\n",
    "cfg = load_config(cfg)\n",
    "\n",
    "terrains_path = cfg['data']['scene_folder']\n",
    "\n",
    "print(data.keys())"
   ]
  },
  {
   "cell_type": "code",
   "execution_count": 34,
   "metadata": {},
   "outputs": [],
   "source": [
    "query_points = data['query_points']\n",
    "logits_sampled = data['logits_sampled']\n",
    "\n",
    "occ_sampled = 1 / (1 + np.exp(-logits_sampled))\n",
    "occ_sampled = occ_sampled > 0.2\n",
    "\n",
    "pcd = o3d.geometry.PointCloud()\n",
    "pcd.points = o3d.utility.Vector3dVector(query_points[occ_sampled == 1])\n",
    "pcd.paint_uniform_color(np.random.rand(3))\n",
    "\n",
    "inputs = data['inputs']\n",
    "inputs_occ = data['inputs.occ']\n",
    "\n",
    "pcd_inputs = o3d.geometry.PointCloud()\n",
    "pcd_inputs.points = o3d.utility.Vector3dVector(inputs[inputs_occ == 1])\n",
    "pcd_inputs.paint_uniform_color(np.random.rand(3))\n",
    "\n",
    "terrain = data['model_infos'][0]['category'][0]\n",
    "transform = data['transform']\n",
    "\n",
    "gt_mesh_o3d, gt_mesh_points = metrics_utils.load_ground_truth(cfg, terrain)\n",
    "gt_mesh_o3d, gt_mesh_points = metrics_utils.apply_transformations(transform, gt_mesh_o3d, gt_mesh_points)\n",
    "gt_mesh_o3d.compute_vertex_normals()\n",
    "o3d.visualization.draw_geometries([pcd, gt_mesh_o3d, pcd_inputs])"
   ]
  },
  {
   "cell_type": "code",
   "execution_count": 37,
   "metadata": {},
   "outputs": [],
   "source": [
    "mesh_path = os.path.join(path_dir, f'mesh_data_saving_8192_1_ogTrue_dispatch-True_.pth.obj')\n",
    "mesh_og = o3d.io.read_triangle_mesh(mesh_path)\n",
    "mesh_og.compute_vertex_normals()\n",
    "o3d.visualization.draw_geometries([mesh_og, gt_mesh_o3d, pcd])"
   ]
  },
  {
   "cell_type": "code",
   "execution_count": 44,
   "metadata": {},
   "outputs": [
    {
     "name": "stdout",
     "output_type": "stream",
     "text": [
      "group size: 1, total models: 5\n",
      "added group, size: 1, total groups: 0\n",
      "added group, size: 1, total groups: 1\n",
      "added group, size: 1, total groups: 2\n",
      "added group, size: 1, total groups: 3\n",
      "added group, size: 1, total groups: 4\n",
      "points: torch.Size([1, 20, 40960, 3])\n",
      "points.occ: torch.Size([1, 20, 40960])\n",
      "inputs: torch.Size([1, 20, 8192, 3])\n",
      "inputs.occ: torch.Size([1, 20, 8192])\n",
      "transform: [tensor([[ 0.0000, 40.6471,  0.0000]], dtype=torch.float64), tensor([[-0.0220,  0.0709,  0.1219]])]\n",
      "model_infos: [{'category': ['2024-08-21_16-54-30'], 'model': ['000000']}]\n"
     ]
    }
   ],
   "source": [
    "dataset = config.get_dataset(cfg['generation']['dataset'], cfg)\n",
    "\n",
    "loader = torch.utils.data.DataLoader(\n",
    "    dataset, batch_size=1, \n",
    "    num_workers=cfg['training']['n_workers'], \n",
    "    shuffle=True,\n",
    "    collate_fn=data_src.collate_remove_none,\n",
    "    worker_init_fn=data_src.worker_init_fn)\n",
    "\n",
    "batch = next(iter(loader))\n",
    "batch_subsampled_reduced = metrics_utils.process_batch(batch, cfg, n_max_inputs = 8192)\n",
    "for key in batch_subsampled_reduced.keys():\n",
    "    try:\n",
    "        print(f'{key}: {batch_subsampled_reduced[key].shape}')\n",
    "    except:\n",
    "        print(f'{key}: {batch_subsampled_reduced[key]}')"
   ]
  },
  {
   "cell_type": "code",
   "execution_count": 51,
   "metadata": {},
   "outputs": [
    {
     "name": "stdout",
     "output_type": "stream",
     "text": [
      "Generating meshes\n",
      "/media/robin/T7/report/models/model_backbone.pt\n",
      "=> Loading checkpoint from local file...\n"
     ]
    },
    {
     "name": "stderr",
     "output_type": "stream",
     "text": [
      "/home/robin/Dev/MasterThesis/GithubRepos/master_thesis/neuralblox/src/checkpoints.py:65: FutureWarning: You are using `torch.load` with `weights_only=False` (the current default value), which uses the default pickle module implicitly. It is possible to construct malicious pickle data which will execute arbitrary code during unpickling (See https://github.com/pytorch/pytorch/blob/main/SECURITY.md#untrusted-models for more details). In a future release, the default value for `weights_only` will be flipped to `True`. This limits the functions that could be executed during unpickling. Arbitrary objects will no longer be allowed to be loaded via this mode unless they are explicitly allowlisted by the user via `torch.serialization.add_safe_globals`. We recommend you start setting `weights_only=True` for any use case where you don't have full control of the loaded file. Please open an issue on GitHub for any issues related to this experimental feature.\n",
      "  state_dict = torch.load(filename)\n"
     ]
    },
    {
     "name": "stdout",
     "output_type": "stream",
     "text": [
      "/media/robin/T7/report/models/model_merging.pt\n",
      "=> Loading checkpoint from local file...\n",
      "Location: home\n",
      "torch.Size([1, 20, 8192, 3])\n",
      "torch.Size([1, 20, 8192])\n"
     ]
    },
    {
     "name": "stderr",
     "output_type": "stream",
     "text": [
      "/home/robin/anaconda3/envs/neuralblox_3_8_v2/lib/python3.8/site-packages/torch/functional.py:513: UserWarning: torch.meshgrid: in an upcoming release, it will be required to pass the indexing argument. (Triggered internally at ../aten/src/ATen/native/TensorShape.cpp:3609.)\n",
      "  return _VF.meshgrid(tensors, **kwargs)  # type: ignore[attr-defined]\n"
     ]
    },
    {
     "name": "stdout",
     "output_type": "stream",
     "text": [
      "Generating mesh at index 10\n",
      "Decoding latent codes from 106 voxels\n"
     ]
    }
   ],
   "source": [
    "print(f'Generating meshes')\n",
    "cfg = config.load_config(cfg_path, cfg_default_path)\n",
    "from src.neuralblox import config_generators\n",
    "\n",
    "generator_robot = config_generators.get_generator_sequential(cfg, device=device)\n",
    "print(data['inputs'].shape)\n",
    "print(data['inputs.occ'].shape)\n",
    "batch_subsampled_reduced = {\n",
    "    'inputs': data['inputs'].to(torch.float32),\n",
    "    'inputs.occ': data['inputs.occ'],\n",
    "    'points': data['inputs'].to(torch.float32),\n",
    "    'points.occ': data['inputs.occ']\n",
    "}\n",
    "idx_vis = 10 \n",
    "\n",
    "with torch.no_grad():\n",
    "    mesh_list, inputs_frame_list, times, logits = generator_robot.generate_mesh_at_index(batch_subsampled_reduced, idx_vis, 0, memory_keep=False, generate_logits=True)   \n"
   ]
  },
  {
   "cell_type": "code",
   "execution_count": 55,
   "metadata": {},
   "outputs": [
    {
     "ename": "TypeError",
     "evalue": "visualize_mesh_and_points() got an unexpected keyword argument 'add_geos'",
     "output_type": "error",
     "traceback": [
      "\u001b[0;31m---------------------------------------------------------------------------\u001b[0m",
      "\u001b[0;31mTypeError\u001b[0m                                 Traceback (most recent call last)",
      "Cell \u001b[0;32mIn[55], line 1\u001b[0m\n\u001b[0;32m----> 1\u001b[0m \u001b[43mvis_utils\u001b[49m\u001b[38;5;241;43m.\u001b[39;49m\u001b[43mvisualize_mesh_and_points\u001b[49m\u001b[43m(\u001b[49m\u001b[43minputs_frame_list\u001b[49m\u001b[43m,\u001b[49m\u001b[43m \u001b[49m\u001b[43mmesh_list\u001b[49m\u001b[43m,\u001b[49m\u001b[43m \u001b[49m\u001b[38;5;241;43m1.0\u001b[39;49m\u001b[43m,\u001b[49m\u001b[43m \u001b[49m\u001b[43madd_geos\u001b[49m\u001b[43m \u001b[49m\u001b[38;5;241;43m=\u001b[39;49m\u001b[43m \u001b[49m\u001b[43m[\u001b[49m\u001b[43mmesh_og\u001b[49m\u001b[43m]\u001b[49m\u001b[43m)\u001b[49m\n",
      "\u001b[0;31mTypeError\u001b[0m: visualize_mesh_and_points() got an unexpected keyword argument 'add_geos'"
     ]
    }
   ],
   "source": [
    "vis_utils.visualize_mesh_and_points(inputs_frame_list, mesh_list, 1.0, add_geos = [mesh_og])\n"
   ]
  }
 ],
 "metadata": {
  "kernelspec": {
   "display_name": "neuralblox_3_8_v2",
   "language": "python",
   "name": "python3"
  },
  "language_info": {
   "codemirror_mode": {
    "name": "ipython",
    "version": 3
   },
   "file_extension": ".py",
   "mimetype": "text/x-python",
   "name": "python",
   "nbconvert_exporter": "python",
   "pygments_lexer": "ipython3",
   "version": "3.8.18"
  }
 },
 "nbformat": 4,
 "nbformat_minor": 2
}
